{
 "cells": [
  {
   "cell_type": "code",
   "execution_count": 1,
   "id": "fa0fca28-b62f-44e9-855e-2a52ddb26bf4",
   "metadata": {},
   "outputs": [],
   "source": [
    "import pandas as pd\n",
    "import numpy as np\n",
    "import matplotlib.pyplot as plt\n",
    "%matplotlib inline"
   ]
  },
  {
   "cell_type": "code",
   "execution_count": 2,
   "id": "ed369884-c5cf-42a2-98a3-d474a46bbf69",
   "metadata": {},
   "outputs": [],
   "source": [
    "df=pd.read_csv('Algerian_forest_fires_cleaned_dataset.csv')"
   ]
  },
  {
   "cell_type": "code",
   "execution_count": 3,
   "id": "cec5789a-df7e-4f56-8bbe-6ace23062b4e",
   "metadata": {},
   "outputs": [
    {
     "data": {
      "text/html": [
       "<div>\n",
       "<style scoped>\n",
       "    .dataframe tbody tr th:only-of-type {\n",
       "        vertical-align: middle;\n",
       "    }\n",
       "\n",
       "    .dataframe tbody tr th {\n",
       "        vertical-align: top;\n",
       "    }\n",
       "\n",
       "    .dataframe thead th {\n",
       "        text-align: right;\n",
       "    }\n",
       "</style>\n",
       "<table border=\"1\" class=\"dataframe\">\n",
       "  <thead>\n",
       "    <tr style=\"text-align: right;\">\n",
       "      <th></th>\n",
       "      <th>day</th>\n",
       "      <th>month</th>\n",
       "      <th>year</th>\n",
       "      <th>Temperature</th>\n",
       "      <th>RH</th>\n",
       "      <th>Ws</th>\n",
       "      <th>Rain</th>\n",
       "      <th>FFMC</th>\n",
       "      <th>DMC</th>\n",
       "      <th>DC</th>\n",
       "      <th>ISI</th>\n",
       "      <th>BUI</th>\n",
       "      <th>FWI</th>\n",
       "      <th>Classes</th>\n",
       "      <th>Region</th>\n",
       "    </tr>\n",
       "  </thead>\n",
       "  <tbody>\n",
       "    <tr>\n",
       "      <th>0</th>\n",
       "      <td>1</td>\n",
       "      <td>6</td>\n",
       "      <td>2012</td>\n",
       "      <td>29</td>\n",
       "      <td>57.0</td>\n",
       "      <td>18.0</td>\n",
       "      <td>0.0</td>\n",
       "      <td>65.7</td>\n",
       "      <td>3.4</td>\n",
       "      <td>7.6</td>\n",
       "      <td>1.3</td>\n",
       "      <td>3.4</td>\n",
       "      <td>0.5</td>\n",
       "      <td>not fire</td>\n",
       "      <td>0</td>\n",
       "    </tr>\n",
       "    <tr>\n",
       "      <th>1</th>\n",
       "      <td>2</td>\n",
       "      <td>6</td>\n",
       "      <td>2012</td>\n",
       "      <td>29</td>\n",
       "      <td>61.0</td>\n",
       "      <td>13.0</td>\n",
       "      <td>1.3</td>\n",
       "      <td>64.4</td>\n",
       "      <td>4.1</td>\n",
       "      <td>7.6</td>\n",
       "      <td>1.0</td>\n",
       "      <td>3.9</td>\n",
       "      <td>0.4</td>\n",
       "      <td>not fire</td>\n",
       "      <td>0</td>\n",
       "    </tr>\n",
       "    <tr>\n",
       "      <th>2</th>\n",
       "      <td>3</td>\n",
       "      <td>6</td>\n",
       "      <td>2012</td>\n",
       "      <td>26</td>\n",
       "      <td>82.0</td>\n",
       "      <td>22.0</td>\n",
       "      <td>13.1</td>\n",
       "      <td>47.1</td>\n",
       "      <td>2.5</td>\n",
       "      <td>7.1</td>\n",
       "      <td>0.3</td>\n",
       "      <td>2.7</td>\n",
       "      <td>0.1</td>\n",
       "      <td>not fire</td>\n",
       "      <td>0</td>\n",
       "    </tr>\n",
       "    <tr>\n",
       "      <th>3</th>\n",
       "      <td>4</td>\n",
       "      <td>6</td>\n",
       "      <td>2012</td>\n",
       "      <td>25</td>\n",
       "      <td>89.0</td>\n",
       "      <td>13.0</td>\n",
       "      <td>2.5</td>\n",
       "      <td>28.6</td>\n",
       "      <td>1.3</td>\n",
       "      <td>6.9</td>\n",
       "      <td>0.0</td>\n",
       "      <td>1.7</td>\n",
       "      <td>0.0</td>\n",
       "      <td>not fire</td>\n",
       "      <td>0</td>\n",
       "    </tr>\n",
       "    <tr>\n",
       "      <th>4</th>\n",
       "      <td>5</td>\n",
       "      <td>6</td>\n",
       "      <td>2012</td>\n",
       "      <td>27</td>\n",
       "      <td>77.0</td>\n",
       "      <td>16.0</td>\n",
       "      <td>0.0</td>\n",
       "      <td>64.8</td>\n",
       "      <td>3.0</td>\n",
       "      <td>14.2</td>\n",
       "      <td>1.2</td>\n",
       "      <td>3.9</td>\n",
       "      <td>0.5</td>\n",
       "      <td>not fire</td>\n",
       "      <td>0</td>\n",
       "    </tr>\n",
       "  </tbody>\n",
       "</table>\n",
       "</div>"
      ],
      "text/plain": [
       "   day  month  year  Temperature    RH    Ws  Rain   FFMC  DMC    DC  ISI  \\\n",
       "0    1      6  2012           29  57.0  18.0    0.0  65.7  3.4   7.6  1.3   \n",
       "1    2      6  2012           29  61.0  13.0    1.3  64.4  4.1   7.6  1.0   \n",
       "2    3      6  2012           26  82.0  22.0   13.1  47.1  2.5   7.1  0.3   \n",
       "3    4      6  2012           25  89.0  13.0    2.5  28.6  1.3   6.9  0.0   \n",
       "4    5      6  2012           27  77.0  16.0    0.0  64.8  3.0  14.2  1.2   \n",
       "\n",
       "   BUI  FWI    Classes    Region  \n",
       "0  3.4  0.5  not fire          0  \n",
       "1  3.9  0.4  not fire          0  \n",
       "2  2.7  0.1  not fire          0  \n",
       "3  1.7  0.0  not fire          0  \n",
       "4  3.9  0.5  not fire          0  "
      ]
     },
     "execution_count": 3,
     "metadata": {},
     "output_type": "execute_result"
    }
   ],
   "source": [
    "df.head()"
   ]
  },
  {
   "cell_type": "code",
   "execution_count": 4,
   "id": "1dee2cc0-e524-4295-a6cb-1090ecee7e01",
   "metadata": {},
   "outputs": [
    {
     "data": {
      "text/plain": [
       "Index(['day', 'month', 'year', 'Temperature', ' RH', ' Ws', 'Rain ', 'FFMC',\n",
       "       'DMC', 'DC', 'ISI', 'BUI', 'FWI', 'Classes  ', 'Region'],\n",
       "      dtype='object')"
      ]
     },
     "execution_count": 4,
     "metadata": {},
     "output_type": "execute_result"
    }
   ],
   "source": [
    "df.columns"
   ]
  },
  {
   "cell_type": "code",
   "execution_count": 5,
   "id": "e1bd100a-ce40-4bea-925b-d9e4d5f8ed44",
   "metadata": {},
   "outputs": [],
   "source": [
    "df.drop(['day','month','year'],axis=1,inplace=True)"
   ]
  },
  {
   "cell_type": "code",
   "execution_count": 6,
   "id": "a5050fe7-b379-4371-bede-7af24169eb52",
   "metadata": {},
   "outputs": [
    {
     "data": {
      "text/html": [
       "<div>\n",
       "<style scoped>\n",
       "    .dataframe tbody tr th:only-of-type {\n",
       "        vertical-align: middle;\n",
       "    }\n",
       "\n",
       "    .dataframe tbody tr th {\n",
       "        vertical-align: top;\n",
       "    }\n",
       "\n",
       "    .dataframe thead th {\n",
       "        text-align: right;\n",
       "    }\n",
       "</style>\n",
       "<table border=\"1\" class=\"dataframe\">\n",
       "  <thead>\n",
       "    <tr style=\"text-align: right;\">\n",
       "      <th></th>\n",
       "      <th>Temperature</th>\n",
       "      <th>RH</th>\n",
       "      <th>Ws</th>\n",
       "      <th>Rain</th>\n",
       "      <th>FFMC</th>\n",
       "      <th>DMC</th>\n",
       "      <th>DC</th>\n",
       "      <th>ISI</th>\n",
       "      <th>BUI</th>\n",
       "      <th>FWI</th>\n",
       "      <th>Classes</th>\n",
       "      <th>Region</th>\n",
       "    </tr>\n",
       "  </thead>\n",
       "  <tbody>\n",
       "    <tr>\n",
       "      <th>0</th>\n",
       "      <td>29</td>\n",
       "      <td>57.0</td>\n",
       "      <td>18.0</td>\n",
       "      <td>0.0</td>\n",
       "      <td>65.7</td>\n",
       "      <td>3.4</td>\n",
       "      <td>7.6</td>\n",
       "      <td>1.3</td>\n",
       "      <td>3.4</td>\n",
       "      <td>0.5</td>\n",
       "      <td>not fire</td>\n",
       "      <td>0</td>\n",
       "    </tr>\n",
       "    <tr>\n",
       "      <th>1</th>\n",
       "      <td>29</td>\n",
       "      <td>61.0</td>\n",
       "      <td>13.0</td>\n",
       "      <td>1.3</td>\n",
       "      <td>64.4</td>\n",
       "      <td>4.1</td>\n",
       "      <td>7.6</td>\n",
       "      <td>1.0</td>\n",
       "      <td>3.9</td>\n",
       "      <td>0.4</td>\n",
       "      <td>not fire</td>\n",
       "      <td>0</td>\n",
       "    </tr>\n",
       "    <tr>\n",
       "      <th>2</th>\n",
       "      <td>26</td>\n",
       "      <td>82.0</td>\n",
       "      <td>22.0</td>\n",
       "      <td>13.1</td>\n",
       "      <td>47.1</td>\n",
       "      <td>2.5</td>\n",
       "      <td>7.1</td>\n",
       "      <td>0.3</td>\n",
       "      <td>2.7</td>\n",
       "      <td>0.1</td>\n",
       "      <td>not fire</td>\n",
       "      <td>0</td>\n",
       "    </tr>\n",
       "    <tr>\n",
       "      <th>3</th>\n",
       "      <td>25</td>\n",
       "      <td>89.0</td>\n",
       "      <td>13.0</td>\n",
       "      <td>2.5</td>\n",
       "      <td>28.6</td>\n",
       "      <td>1.3</td>\n",
       "      <td>6.9</td>\n",
       "      <td>0.0</td>\n",
       "      <td>1.7</td>\n",
       "      <td>0.0</td>\n",
       "      <td>not fire</td>\n",
       "      <td>0</td>\n",
       "    </tr>\n",
       "    <tr>\n",
       "      <th>4</th>\n",
       "      <td>27</td>\n",
       "      <td>77.0</td>\n",
       "      <td>16.0</td>\n",
       "      <td>0.0</td>\n",
       "      <td>64.8</td>\n",
       "      <td>3.0</td>\n",
       "      <td>14.2</td>\n",
       "      <td>1.2</td>\n",
       "      <td>3.9</td>\n",
       "      <td>0.5</td>\n",
       "      <td>not fire</td>\n",
       "      <td>0</td>\n",
       "    </tr>\n",
       "  </tbody>\n",
       "</table>\n",
       "</div>"
      ],
      "text/plain": [
       "   Temperature    RH    Ws  Rain   FFMC  DMC    DC  ISI  BUI  FWI  \\\n",
       "0           29  57.0  18.0    0.0  65.7  3.4   7.6  1.3  3.4  0.5   \n",
       "1           29  61.0  13.0    1.3  64.4  4.1   7.6  1.0  3.9  0.4   \n",
       "2           26  82.0  22.0   13.1  47.1  2.5   7.1  0.3  2.7  0.1   \n",
       "3           25  89.0  13.0    2.5  28.6  1.3   6.9  0.0  1.7  0.0   \n",
       "4           27  77.0  16.0    0.0  64.8  3.0  14.2  1.2  3.9  0.5   \n",
       "\n",
       "     Classes    Region  \n",
       "0  not fire          0  \n",
       "1  not fire          0  \n",
       "2  not fire          0  \n",
       "3  not fire          0  \n",
       "4  not fire          0  "
      ]
     },
     "execution_count": 6,
     "metadata": {},
     "output_type": "execute_result"
    }
   ],
   "source": [
    "df.head()"
   ]
  },
  {
   "cell_type": "code",
   "execution_count": 7,
   "id": "8843a420-6819-47fb-ae0b-7c959bcc199b",
   "metadata": {},
   "outputs": [
    {
     "data": {
      "text/plain": [
       "fire             131\n",
       "not fire         100\n",
       "fire               4\n",
       "fire               2\n",
       "not fire           2\n",
       "not fire           1\n",
       "not fire           1\n",
       "not fire           1\n",
       "Name: Classes  , dtype: int64"
      ]
     },
     "execution_count": 7,
     "metadata": {},
     "output_type": "execute_result"
    }
   ],
   "source": [
    "df['Classes  '].value_counts()"
   ]
  },
  {
   "cell_type": "code",
   "execution_count": 8,
   "id": "3b5277c3-90bb-4e4c-b5dc-bd4f104f6547",
   "metadata": {},
   "outputs": [],
   "source": [
    "##Encoding\n",
    "df['Classes  ']=np.where(df['Classes  '].astype(str).str.contains('not fire '),0,1)"
   ]
  },
  {
   "cell_type": "code",
   "execution_count": 9,
   "id": "f764b47b-162d-4430-a4e9-4cd37a15d068",
   "metadata": {},
   "outputs": [
    {
     "data": {
      "text/html": [
       "<div>\n",
       "<style scoped>\n",
       "    .dataframe tbody tr th:only-of-type {\n",
       "        vertical-align: middle;\n",
       "    }\n",
       "\n",
       "    .dataframe tbody tr th {\n",
       "        vertical-align: top;\n",
       "    }\n",
       "\n",
       "    .dataframe thead th {\n",
       "        text-align: right;\n",
       "    }\n",
       "</style>\n",
       "<table border=\"1\" class=\"dataframe\">\n",
       "  <thead>\n",
       "    <tr style=\"text-align: right;\">\n",
       "      <th></th>\n",
       "      <th>Temperature</th>\n",
       "      <th>RH</th>\n",
       "      <th>Ws</th>\n",
       "      <th>Rain</th>\n",
       "      <th>FFMC</th>\n",
       "      <th>DMC</th>\n",
       "      <th>DC</th>\n",
       "      <th>ISI</th>\n",
       "      <th>BUI</th>\n",
       "      <th>FWI</th>\n",
       "      <th>Classes</th>\n",
       "      <th>Region</th>\n",
       "    </tr>\n",
       "  </thead>\n",
       "  <tbody>\n",
       "    <tr>\n",
       "      <th>0</th>\n",
       "      <td>29</td>\n",
       "      <td>57.0</td>\n",
       "      <td>18.0</td>\n",
       "      <td>0.0</td>\n",
       "      <td>65.7</td>\n",
       "      <td>3.4</td>\n",
       "      <td>7.6</td>\n",
       "      <td>1.3</td>\n",
       "      <td>3.4</td>\n",
       "      <td>0.5</td>\n",
       "      <td>0</td>\n",
       "      <td>0</td>\n",
       "    </tr>\n",
       "    <tr>\n",
       "      <th>1</th>\n",
       "      <td>29</td>\n",
       "      <td>61.0</td>\n",
       "      <td>13.0</td>\n",
       "      <td>1.3</td>\n",
       "      <td>64.4</td>\n",
       "      <td>4.1</td>\n",
       "      <td>7.6</td>\n",
       "      <td>1.0</td>\n",
       "      <td>3.9</td>\n",
       "      <td>0.4</td>\n",
       "      <td>0</td>\n",
       "      <td>0</td>\n",
       "    </tr>\n",
       "    <tr>\n",
       "      <th>2</th>\n",
       "      <td>26</td>\n",
       "      <td>82.0</td>\n",
       "      <td>22.0</td>\n",
       "      <td>13.1</td>\n",
       "      <td>47.1</td>\n",
       "      <td>2.5</td>\n",
       "      <td>7.1</td>\n",
       "      <td>0.3</td>\n",
       "      <td>2.7</td>\n",
       "      <td>0.1</td>\n",
       "      <td>0</td>\n",
       "      <td>0</td>\n",
       "    </tr>\n",
       "    <tr>\n",
       "      <th>3</th>\n",
       "      <td>25</td>\n",
       "      <td>89.0</td>\n",
       "      <td>13.0</td>\n",
       "      <td>2.5</td>\n",
       "      <td>28.6</td>\n",
       "      <td>1.3</td>\n",
       "      <td>6.9</td>\n",
       "      <td>0.0</td>\n",
       "      <td>1.7</td>\n",
       "      <td>0.0</td>\n",
       "      <td>0</td>\n",
       "      <td>0</td>\n",
       "    </tr>\n",
       "    <tr>\n",
       "      <th>4</th>\n",
       "      <td>27</td>\n",
       "      <td>77.0</td>\n",
       "      <td>16.0</td>\n",
       "      <td>0.0</td>\n",
       "      <td>64.8</td>\n",
       "      <td>3.0</td>\n",
       "      <td>14.2</td>\n",
       "      <td>1.2</td>\n",
       "      <td>3.9</td>\n",
       "      <td>0.5</td>\n",
       "      <td>0</td>\n",
       "      <td>0</td>\n",
       "    </tr>\n",
       "  </tbody>\n",
       "</table>\n",
       "</div>"
      ],
      "text/plain": [
       "   Temperature    RH    Ws  Rain   FFMC  DMC    DC  ISI  BUI  FWI  Classes    \\\n",
       "0           29  57.0  18.0    0.0  65.7  3.4   7.6  1.3  3.4  0.5          0   \n",
       "1           29  61.0  13.0    1.3  64.4  4.1   7.6  1.0  3.9  0.4          0   \n",
       "2           26  82.0  22.0   13.1  47.1  2.5   7.1  0.3  2.7  0.1          0   \n",
       "3           25  89.0  13.0    2.5  28.6  1.3   6.9  0.0  1.7  0.0          0   \n",
       "4           27  77.0  16.0    0.0  64.8  3.0  14.2  1.2  3.9  0.5          0   \n",
       "\n",
       "   Region  \n",
       "0       0  \n",
       "1       0  \n",
       "2       0  \n",
       "3       0  \n",
       "4       0  "
      ]
     },
     "execution_count": 9,
     "metadata": {},
     "output_type": "execute_result"
    }
   ],
   "source": [
    "df.head()"
   ]
  },
  {
   "cell_type": "code",
   "execution_count": 10,
   "id": "ecea0042-74b1-4b58-9c30-1196f46ae64b",
   "metadata": {},
   "outputs": [
    {
     "data": {
      "text/html": [
       "<div>\n",
       "<style scoped>\n",
       "    .dataframe tbody tr th:only-of-type {\n",
       "        vertical-align: middle;\n",
       "    }\n",
       "\n",
       "    .dataframe tbody tr th {\n",
       "        vertical-align: top;\n",
       "    }\n",
       "\n",
       "    .dataframe thead th {\n",
       "        text-align: right;\n",
       "    }\n",
       "</style>\n",
       "<table border=\"1\" class=\"dataframe\">\n",
       "  <thead>\n",
       "    <tr style=\"text-align: right;\">\n",
       "      <th></th>\n",
       "      <th>Temperature</th>\n",
       "      <th>RH</th>\n",
       "      <th>Ws</th>\n",
       "      <th>Rain</th>\n",
       "      <th>FFMC</th>\n",
       "      <th>DMC</th>\n",
       "      <th>DC</th>\n",
       "      <th>ISI</th>\n",
       "      <th>BUI</th>\n",
       "      <th>FWI</th>\n",
       "      <th>Classes</th>\n",
       "      <th>Region</th>\n",
       "    </tr>\n",
       "  </thead>\n",
       "  <tbody>\n",
       "    <tr>\n",
       "      <th>237</th>\n",
       "      <td>30</td>\n",
       "      <td>65.0</td>\n",
       "      <td>14.0</td>\n",
       "      <td>0.0</td>\n",
       "      <td>85.4</td>\n",
       "      <td>16.0</td>\n",
       "      <td>44.5</td>\n",
       "      <td>4.5</td>\n",
       "      <td>16.9</td>\n",
       "      <td>6.5</td>\n",
       "      <td>1</td>\n",
       "      <td>1</td>\n",
       "    </tr>\n",
       "    <tr>\n",
       "      <th>238</th>\n",
       "      <td>28</td>\n",
       "      <td>87.0</td>\n",
       "      <td>15.0</td>\n",
       "      <td>4.4</td>\n",
       "      <td>41.1</td>\n",
       "      <td>6.5</td>\n",
       "      <td>8.0</td>\n",
       "      <td>0.1</td>\n",
       "      <td>6.2</td>\n",
       "      <td>0.0</td>\n",
       "      <td>0</td>\n",
       "      <td>1</td>\n",
       "    </tr>\n",
       "    <tr>\n",
       "      <th>239</th>\n",
       "      <td>27</td>\n",
       "      <td>87.0</td>\n",
       "      <td>29.0</td>\n",
       "      <td>0.5</td>\n",
       "      <td>45.9</td>\n",
       "      <td>3.5</td>\n",
       "      <td>7.9</td>\n",
       "      <td>0.4</td>\n",
       "      <td>3.4</td>\n",
       "      <td>0.2</td>\n",
       "      <td>0</td>\n",
       "      <td>1</td>\n",
       "    </tr>\n",
       "    <tr>\n",
       "      <th>240</th>\n",
       "      <td>24</td>\n",
       "      <td>54.0</td>\n",
       "      <td>18.0</td>\n",
       "      <td>0.1</td>\n",
       "      <td>79.7</td>\n",
       "      <td>4.3</td>\n",
       "      <td>15.2</td>\n",
       "      <td>1.7</td>\n",
       "      <td>5.1</td>\n",
       "      <td>0.7</td>\n",
       "      <td>0</td>\n",
       "      <td>1</td>\n",
       "    </tr>\n",
       "    <tr>\n",
       "      <th>241</th>\n",
       "      <td>24</td>\n",
       "      <td>64.0</td>\n",
       "      <td>15.0</td>\n",
       "      <td>0.2</td>\n",
       "      <td>67.3</td>\n",
       "      <td>3.8</td>\n",
       "      <td>16.5</td>\n",
       "      <td>1.2</td>\n",
       "      <td>4.8</td>\n",
       "      <td>0.5</td>\n",
       "      <td>0</td>\n",
       "      <td>1</td>\n",
       "    </tr>\n",
       "  </tbody>\n",
       "</table>\n",
       "</div>"
      ],
      "text/plain": [
       "     Temperature    RH    Ws  Rain   FFMC   DMC    DC  ISI   BUI  FWI  \\\n",
       "237           30  65.0  14.0    0.0  85.4  16.0  44.5  4.5  16.9  6.5   \n",
       "238           28  87.0  15.0    4.4  41.1   6.5   8.0  0.1   6.2  0.0   \n",
       "239           27  87.0  29.0    0.5  45.9   3.5   7.9  0.4   3.4  0.2   \n",
       "240           24  54.0  18.0    0.1  79.7   4.3  15.2  1.7   5.1  0.7   \n",
       "241           24  64.0  15.0    0.2  67.3   3.8  16.5  1.2   4.8  0.5   \n",
       "\n",
       "     Classes    Region  \n",
       "237          1       1  \n",
       "238          0       1  \n",
       "239          0       1  \n",
       "240          0       1  \n",
       "241          0       1  "
      ]
     },
     "execution_count": 10,
     "metadata": {},
     "output_type": "execute_result"
    }
   ],
   "source": [
    "df.tail()"
   ]
  },
  {
   "cell_type": "code",
   "execution_count": 11,
   "id": "a9180328-d69f-45cf-a8bc-56411386db49",
   "metadata": {},
   "outputs": [
    {
     "data": {
      "text/plain": [
       "1    139\n",
       "0    103\n",
       "Name: Classes  , dtype: int64"
      ]
     },
     "execution_count": 11,
     "metadata": {},
     "output_type": "execute_result"
    }
   ],
   "source": [
    "df['Classes  '].value_counts()"
   ]
  },
  {
   "cell_type": "code",
   "execution_count": 12,
   "id": "8a901c85-2776-4b5d-802f-565f5cfb0d90",
   "metadata": {},
   "outputs": [],
   "source": [
    "x=df.drop(['FWI'],axis=1)\n",
    "y=df['FWI']"
   ]
  },
  {
   "cell_type": "code",
   "execution_count": 13,
   "id": "a1ad6e42-b719-403b-933e-19f776765967",
   "metadata": {},
   "outputs": [],
   "source": [
    "#Train test \n",
    "from sklearn.model_selection import train_test_split\n",
    "x_train,x_test,y_train,y_test=train_test_split(x,y,test_size=0.25,random_state=42)"
   ]
  },
  {
   "cell_type": "code",
   "execution_count": 14,
   "id": "35860426-3d4a-458f-8b95-ab98623c4771",
   "metadata": {},
   "outputs": [
    {
     "data": {
      "text/plain": [
       "((242, 11), (181, 11), (61, 11))"
      ]
     },
     "execution_count": 14,
     "metadata": {},
     "output_type": "execute_result"
    }
   ],
   "source": [
    "x.shape,x_train.shape,x_test.shape"
   ]
  },
  {
   "cell_type": "code",
   "execution_count": 15,
   "id": "447a26bb-1981-4da9-901f-c4ace5a18cac",
   "metadata": {},
   "outputs": [
    {
     "data": {
      "text/html": [
       "<div>\n",
       "<style scoped>\n",
       "    .dataframe tbody tr th:only-of-type {\n",
       "        vertical-align: middle;\n",
       "    }\n",
       "\n",
       "    .dataframe tbody tr th {\n",
       "        vertical-align: top;\n",
       "    }\n",
       "\n",
       "    .dataframe thead th {\n",
       "        text-align: right;\n",
       "    }\n",
       "</style>\n",
       "<table border=\"1\" class=\"dataframe\">\n",
       "  <thead>\n",
       "    <tr style=\"text-align: right;\">\n",
       "      <th></th>\n",
       "      <th>Temperature</th>\n",
       "      <th>RH</th>\n",
       "      <th>Ws</th>\n",
       "      <th>Rain</th>\n",
       "      <th>FFMC</th>\n",
       "      <th>DMC</th>\n",
       "      <th>DC</th>\n",
       "      <th>ISI</th>\n",
       "      <th>BUI</th>\n",
       "      <th>Classes</th>\n",
       "      <th>Region</th>\n",
       "    </tr>\n",
       "  </thead>\n",
       "  <tbody>\n",
       "    <tr>\n",
       "      <th>Temperature</th>\n",
       "      <td>1.000000</td>\n",
       "      <td>-0.650346</td>\n",
       "      <td>-0.302105</td>\n",
       "      <td>-0.329711</td>\n",
       "      <td>0.703237</td>\n",
       "      <td>0.494261</td>\n",
       "      <td>0.377424</td>\n",
       "      <td>0.617606</td>\n",
       "      <td>0.466352</td>\n",
       "      <td>0.513860</td>\n",
       "      <td>0.249598</td>\n",
       "    </tr>\n",
       "    <tr>\n",
       "      <th>RH</th>\n",
       "      <td>-0.650346</td>\n",
       "      <td>1.000000</td>\n",
       "      <td>0.266525</td>\n",
       "      <td>0.234932</td>\n",
       "      <td>-0.634330</td>\n",
       "      <td>-0.413931</td>\n",
       "      <td>-0.246125</td>\n",
       "      <td>-0.693939</td>\n",
       "      <td>-0.364136</td>\n",
       "      <td>-0.422650</td>\n",
       "      <td>-0.364007</td>\n",
       "    </tr>\n",
       "    <tr>\n",
       "      <th>Ws</th>\n",
       "      <td>-0.302105</td>\n",
       "      <td>0.266525</td>\n",
       "      <td>1.000000</td>\n",
       "      <td>0.219681</td>\n",
       "      <td>-0.171843</td>\n",
       "      <td>0.000277</td>\n",
       "      <td>0.105115</td>\n",
       "      <td>0.005360</td>\n",
       "      <td>0.038701</td>\n",
       "      <td>-0.037429</td>\n",
       "      <td>-0.235477</td>\n",
       "    </tr>\n",
       "    <tr>\n",
       "      <th>Rain</th>\n",
       "      <td>-0.329711</td>\n",
       "      <td>0.234932</td>\n",
       "      <td>0.219681</td>\n",
       "      <td>1.000000</td>\n",
       "      <td>-0.546501</td>\n",
       "      <td>-0.286855</td>\n",
       "      <td>-0.300276</td>\n",
       "      <td>-0.346706</td>\n",
       "      <td>-0.297934</td>\n",
       "      <td>-0.302282</td>\n",
       "      <td>-0.065132</td>\n",
       "    </tr>\n",
       "    <tr>\n",
       "      <th>FFMC</th>\n",
       "      <td>0.703237</td>\n",
       "      <td>-0.634330</td>\n",
       "      <td>-0.171843</td>\n",
       "      <td>-0.546501</td>\n",
       "      <td>1.000000</td>\n",
       "      <td>0.621240</td>\n",
       "      <td>0.537884</td>\n",
       "      <td>0.751558</td>\n",
       "      <td>0.610780</td>\n",
       "      <td>0.762402</td>\n",
       "      <td>0.222702</td>\n",
       "    </tr>\n",
       "    <tr>\n",
       "      <th>DMC</th>\n",
       "      <td>0.494261</td>\n",
       "      <td>-0.413931</td>\n",
       "      <td>0.000277</td>\n",
       "      <td>-0.286855</td>\n",
       "      <td>0.621240</td>\n",
       "      <td>1.000000</td>\n",
       "      <td>0.876734</td>\n",
       "      <td>0.693404</td>\n",
       "      <td>0.983698</td>\n",
       "      <td>0.608891</td>\n",
       "      <td>0.196778</td>\n",
       "    </tr>\n",
       "    <tr>\n",
       "      <th>DC</th>\n",
       "      <td>0.377424</td>\n",
       "      <td>-0.246125</td>\n",
       "      <td>0.105115</td>\n",
       "      <td>-0.300276</td>\n",
       "      <td>0.537884</td>\n",
       "      <td>0.876734</td>\n",
       "      <td>1.000000</td>\n",
       "      <td>0.548992</td>\n",
       "      <td>0.946992</td>\n",
       "      <td>0.537586</td>\n",
       "      <td>-0.081403</td>\n",
       "    </tr>\n",
       "    <tr>\n",
       "      <th>ISI</th>\n",
       "      <td>0.617606</td>\n",
       "      <td>-0.693939</td>\n",
       "      <td>0.005360</td>\n",
       "      <td>-0.346706</td>\n",
       "      <td>0.751558</td>\n",
       "      <td>0.693404</td>\n",
       "      <td>0.548992</td>\n",
       "      <td>1.000000</td>\n",
       "      <td>0.659589</td>\n",
       "      <td>0.739697</td>\n",
       "      <td>0.266275</td>\n",
       "    </tr>\n",
       "    <tr>\n",
       "      <th>BUI</th>\n",
       "      <td>0.466352</td>\n",
       "      <td>-0.364136</td>\n",
       "      <td>0.038701</td>\n",
       "      <td>-0.297934</td>\n",
       "      <td>0.610780</td>\n",
       "      <td>0.983698</td>\n",
       "      <td>0.946992</td>\n",
       "      <td>0.659589</td>\n",
       "      <td>1.000000</td>\n",
       "      <td>0.603894</td>\n",
       "      <td>0.096607</td>\n",
       "    </tr>\n",
       "    <tr>\n",
       "      <th>Classes</th>\n",
       "      <td>0.513860</td>\n",
       "      <td>-0.422650</td>\n",
       "      <td>-0.037429</td>\n",
       "      <td>-0.302282</td>\n",
       "      <td>0.762402</td>\n",
       "      <td>0.608891</td>\n",
       "      <td>0.537586</td>\n",
       "      <td>0.739697</td>\n",
       "      <td>0.603894</td>\n",
       "      <td>1.000000</td>\n",
       "      <td>0.151085</td>\n",
       "    </tr>\n",
       "    <tr>\n",
       "      <th>Region</th>\n",
       "      <td>0.249598</td>\n",
       "      <td>-0.364007</td>\n",
       "      <td>-0.235477</td>\n",
       "      <td>-0.065132</td>\n",
       "      <td>0.222702</td>\n",
       "      <td>0.196778</td>\n",
       "      <td>-0.081403</td>\n",
       "      <td>0.266275</td>\n",
       "      <td>0.096607</td>\n",
       "      <td>0.151085</td>\n",
       "      <td>1.000000</td>\n",
       "    </tr>\n",
       "  </tbody>\n",
       "</table>\n",
       "</div>"
      ],
      "text/plain": [
       "             Temperature        RH        Ws     Rain       FFMC       DMC  \\\n",
       "Temperature     1.000000 -0.650346 -0.302105 -0.329711  0.703237  0.494261   \n",
       " RH            -0.650346  1.000000  0.266525  0.234932 -0.634330 -0.413931   \n",
       " Ws            -0.302105  0.266525  1.000000  0.219681 -0.171843  0.000277   \n",
       "Rain           -0.329711  0.234932  0.219681  1.000000 -0.546501 -0.286855   \n",
       "FFMC            0.703237 -0.634330 -0.171843 -0.546501  1.000000  0.621240   \n",
       "DMC             0.494261 -0.413931  0.000277 -0.286855  0.621240  1.000000   \n",
       "DC              0.377424 -0.246125  0.105115 -0.300276  0.537884  0.876734   \n",
       "ISI             0.617606 -0.693939  0.005360 -0.346706  0.751558  0.693404   \n",
       "BUI             0.466352 -0.364136  0.038701 -0.297934  0.610780  0.983698   \n",
       "Classes         0.513860 -0.422650 -0.037429 -0.302282  0.762402  0.608891   \n",
       "Region          0.249598 -0.364007 -0.235477 -0.065132  0.222702  0.196778   \n",
       "\n",
       "                   DC       ISI       BUI  Classes      Region  \n",
       "Temperature  0.377424  0.617606  0.466352   0.513860  0.249598  \n",
       " RH         -0.246125 -0.693939 -0.364136  -0.422650 -0.364007  \n",
       " Ws          0.105115  0.005360  0.038701  -0.037429 -0.235477  \n",
       "Rain        -0.300276 -0.346706 -0.297934  -0.302282 -0.065132  \n",
       "FFMC         0.537884  0.751558  0.610780   0.762402  0.222702  \n",
       "DMC          0.876734  0.693404  0.983698   0.608891  0.196778  \n",
       "DC           1.000000  0.548992  0.946992   0.537586 -0.081403  \n",
       "ISI          0.548992  1.000000  0.659589   0.739697  0.266275  \n",
       "BUI          0.946992  0.659589  1.000000   0.603894  0.096607  \n",
       "Classes      0.537586  0.739697  0.603894   1.000000  0.151085  \n",
       "Region      -0.081403  0.266275  0.096607   0.151085  1.000000  "
      ]
     },
     "execution_count": 15,
     "metadata": {},
     "output_type": "execute_result"
    }
   ],
   "source": [
    "# feature selection based on correlation\n",
    "x_train.corr()"
   ]
  },
  {
   "cell_type": "code",
   "execution_count": 16,
   "id": "1971fcfb-9a7a-43f5-a71f-cfb7efa2e68b",
   "metadata": {},
   "outputs": [
    {
     "data": {
      "text/plain": [
       "<Axes: >"
      ]
     },
     "execution_count": 16,
     "metadata": {},
     "output_type": "execute_result"
    },
    {
     "data": {
      "image/png": "[encoded data removed]",
      "text/plain": [
       "<Figure size 1000x600 with 2 Axes>"
      ]
     },
     "metadata": {},
     "output_type": "display_data"
    }
   ],
   "source": [
    "# check for multicollinearity\n",
    "import seaborn as sns\n",
    "plt.figure(figsize=(10,6))\n",
    "cor=x_train.corr()\n",
    "sns.heatmap(cor,annot=True)"
   ]
  },
  {
   "cell_type": "code",
   "execution_count": 17,
   "id": "2d3ac0a7-f9e1-490c-8911-7ce1e0961346",
   "metadata": {},
   "outputs": [],
   "source": [
    "def correlation(dataset,threshold):\n",
    "    col_corr=set()\n",
    "    corr_matrix=dataset.corr()\n",
    "    for i in range(len(corr_matrix.columns)):\n",
    "        for j in range(i):\n",
    "            if abs(corr_matrix.iloc[i,j]>threshold):\n",
    "                colname=corr_matrix.columns[i]\n",
    "                col_corr.add(colname)\n",
    "    return col_corr\n",
    "            "
   ]
  },
  {
   "cell_type": "code",
   "execution_count": 18,
   "id": "c5e6a8e5-b295-42a9-ae52-cd533eedc672",
   "metadata": {},
   "outputs": [],
   "source": [
    "# thresold----Domain expertise\n",
    "corr_features=correlation(x_train,0.85)"
   ]
  },
  {
   "cell_type": "code",
   "execution_count": 19,
   "id": "16ea9985-5c66-462b-ba1d-17eb7e8034d4",
   "metadata": {},
   "outputs": [
    {
     "data": {
      "text/plain": [
       "(181, 9)"
      ]
     },
     "execution_count": 19,
     "metadata": {},
     "output_type": "execute_result"
    }
   ],
   "source": [
    "x_train.drop(corr_features,axis=1,inplace=True)\n",
    "x_train.shape"
   ]
  },
  {
   "cell_type": "code",
   "execution_count": 20,
   "id": "b15faa13-414e-4d6b-8537-3dc31c605af7",
   "metadata": {},
   "outputs": [],
   "source": [
    "x_test.drop(corr_features,axis=1,inplace=True)"
   ]
  },
  {
   "cell_type": "code",
   "execution_count": 21,
   "id": "6f1df455-9540-4f1d-8a4f-de244448948c",
   "metadata": {},
   "outputs": [
    {
     "data": {
      "text/plain": [
       "(61, 9)"
      ]
     },
     "execution_count": 21,
     "metadata": {},
     "output_type": "execute_result"
    }
   ],
   "source": [
    "x_test.shape"
   ]
  },
  {
   "cell_type": "code",
   "execution_count": 22,
   "id": "6740eeff-4a0c-4086-a58b-3505813d1622",
   "metadata": {},
   "outputs": [],
   "source": [
    "# feature scaling or standardization\n",
    "from sklearn.preprocessing import StandardScaler\n",
    "scaler=StandardScaler()\n",
    "x_train_sc=scaler.fit_transform(x_train)\n",
    "x_test_sc=scaler.transform(x_test)"
   ]
  },
  {
   "cell_type": "code",
   "execution_count": 23,
   "id": "85429275-127a-4145-a11a-958695379084",
   "metadata": {},
   "outputs": [
    {
     "data": {
      "text/plain": [
       "array([[-0.29479293,  0.08128103, -0.16273045, -0.38599953,  0.65673744,\n",
       "        -0.02441636,  0.2472733 ,  0.92029277, -0.98356052],\n",
       "       [ 0.23878227, -0.5904937 , -0.88112584, -0.38599953,  0.76099672,\n",
       "        -0.36805564,  0.41330153,  0.92029277, -0.98356052],\n",
       "       [ 0.23878227, -0.99355854,  0.19646725, -0.38599953,  0.71929301,\n",
       "        -0.52788787,  0.5081748 ,  0.92029277,  1.01671425],\n",
       "       [ 0.77235746, -0.65767117,  0.55566494, -0.1480366 ,  0.20494724,\n",
       "         0.49503837, -0.46427625,  0.92029277,  1.01671425],\n",
       "       [-0.56158052,  0.1484585 , -0.52192814, -0.38599953,  0.5663794 ,\n",
       "         0.11943264, -0.03734652,  0.92029277,  1.01671425],\n",
       "       [ 0.77235746,  0.21563598, -0.16273045, -0.33840694,  0.3787127 ,\n",
       "         1.45403172, -0.32196634,  0.92029277,  1.01671425],\n",
       "       [ 1.83950785, -1.5981558 , -0.16273045, -0.29081436,  0.83745352,\n",
       "         0.10344942,  0.84023126,  0.92029277,  1.01671425],\n",
       "       [ 0.50556987, -1.39662338, -0.16273045,  0.42307441,  0.17019415,\n",
       "        -0.20023181, -0.58286785, -1.08661074,  1.01671425],\n",
       "       [-1.09515572,  1.08894313, -1.24032353, -0.38599953, -0.28159605,\n",
       "        -0.40002209, -0.79633271, -1.08661074, -0.98356052],\n",
       "       [-0.29479293, -0.85920359,  1.27406033, -0.10044402,  0.0381324 ,\n",
       "        -0.31211436, -0.53543121, -1.08661074, -0.98356052],\n",
       "       [-1.09515572,  0.88741071,  1.99245572, -0.38599953, -0.32329976,\n",
       "        -0.59981237, -0.93864262, -1.08661074, -0.98356052],\n",
       "       [ 0.77235746, -0.45613875, -0.52192814, -0.19562919,  0.13544106,\n",
       "         1.79767101, -0.60658617, -1.08661074,  1.01671425],\n",
       "       [-0.02800533, -0.79202612, -0.88112584, -0.38599953,  0.79574981,\n",
       "         0.11943264,  0.53189312,  0.92029277,  1.01671425],\n",
       "       [ 1.03914506, -2.26993053,  0.91486264, -0.38599953,  1.15718197,\n",
       "         2.0054529 ,  3.28321805,  0.92029277,  1.01671425],\n",
       "       [ 1.03914506, -0.52331623,  0.91486264, -0.38599953,  0.82355229,\n",
       "         1.51796461,  1.24344267,  0.92029277, -0.98356052],\n",
       "       [ 0.50556987, -0.45613875, -0.16273045,  0.99418543, -0.17038616,\n",
       "        -0.59182076, -0.72517776, -1.08661074,  1.01671425],\n",
       "       [ 0.50556987, -0.32178381, -0.88112584, -0.29081436,  0.15629291,\n",
       "         0.33520615, -0.60658617, -1.08661074,  1.01671425],\n",
       "       [-0.82836812,  1.76071786, -0.88112584, -0.05285143, -2.86027551,\n",
       "        -1.02336777, -1.10467085, -1.08661074, -0.98356052],\n",
       "       [-0.02800533,  0.82023324, -0.52192814, -0.38599953,  0.63588559,\n",
       "        -0.12031569,  0.12868171,  0.92029277, -0.98356052],\n",
       "       [ 0.77235746, -1.26226843,  0.55566494, -0.29081436,  0.58028064,\n",
       "        -0.36805564,  0.17611834,  0.92029277,  1.01671425],\n",
       "       [ 0.23878227,  1.02176566,  0.55566494, -0.38599953,  0.19799662,\n",
       "        -0.79161104, -0.46427625, -1.08661074, -0.98356052],\n",
       "       [-0.56158052,  1.1561206 ,  0.19646725, -0.19562919, -1.21297893,\n",
       "        -0.88751037, -0.89120599, -1.08661074, -0.98356052],\n",
       "       [-0.29479293, -0.72484865, -0.52192814, -0.38599953,  0.72624363,\n",
       "        -0.64776204,  0.36586489,  0.92029277, -0.98356052],\n",
       "       [-0.82836812,  0.34999092,  1.27406033,  0.08992632, -1.20602831,\n",
       "        -0.95943488, -0.84376935, -1.08661074, -0.98356052],\n",
       "       [ 1.57272026, -1.86686569, -0.16273045, -0.38599953,  1.15023135,\n",
       "         0.67884543,  2.61910514,  0.92029277,  1.01671425],\n",
       "       [ 0.50556987, -1.19509096,  0.55566494, -0.38599953,  0.92086095,\n",
       "         0.27926487,  1.48062585,  0.92029277,  1.01671425],\n",
       "       [-0.29479293,  0.1484585 , -0.52192814, -0.38599953,  0.50382384,\n",
       "        -0.16027375, -0.15593812,  0.92029277, -0.98356052],\n",
       "       [ 0.77235746,  0.01410356, -0.16273045, -0.38599953,  0.6775893 ,\n",
       "         0.35918098,  0.29470993,  0.92029277, -0.98356052],\n",
       "       [-2.6958813 ,  1.55918544, -0.16273045,  4.42085154, -3.24951014,\n",
       "        -1.10328388, -1.10467085,  0.92029277, -0.98356052],\n",
       "       [ 0.50556987, -1.19509096,  0.91486264, -0.38599953,  0.92086095,\n",
       "         0.33520615,  1.57549913,  0.92029277,  1.01671425],\n",
       "       [-1.09515572,  1.4248305 ,  0.91486264, -0.38599953,  0.45516951,\n",
       "        -0.08035764, -0.03734652,  0.92029277, -0.98356052],\n",
       "       [-0.56158052, -0.32178381, -1.24032353,  1.56529645, -0.77508996,\n",
       "        -0.83956071, -0.86748767, -1.08661074,  1.01671425],\n",
       "       [-0.29479293,  0.08128103,  0.91486264, -0.38599953,  0.66368806,\n",
       "         0.26328165,  0.48445648,  0.92029277, -0.98356052],\n",
       "       [ 0.77235746,  0.08128103,  0.55566494, -0.38599953,  0.69149054,\n",
       "         1.39009883,  0.5081748 ,  0.92029277, -0.98356052],\n",
       "       [-0.29479293, -0.52331623,  0.19646725, -0.33840694,  0.18409539,\n",
       "        -0.79960265, -0.51171289, -1.08661074, -0.98356052],\n",
       "       [ 0.77235746, -0.5904937 , -1.59952123, -0.33840694,  0.44821889,\n",
       "        -0.48792981, -0.36940298,  0.92029277,  1.01671425],\n",
       "       [-0.82836812,  0.82023324,  0.19646725, -0.38599953,  0.24665095,\n",
       "        -0.88751037, -0.44055794,  0.92029277, -0.98356052],\n",
       "       [ 0.77235746, -1.12791349, -0.88112584, -0.24322177,  0.46212013,\n",
       "         0.19135714, -0.27452971,  0.92029277,  1.01671425],\n",
       "       [-0.29479293,  0.4171684 ,  0.55566494,  1.85085196, -1.04616408,\n",
       "        -0.84755232, -0.84376935, -1.08661074,  1.01671425],\n",
       "       [-1.36194331,  1.62636292,  4.86603728, -0.1480366 , -2.1791149 ,\n",
       "        -0.87951876, -1.00979758, -1.08661074,  1.01671425],\n",
       "       [ 1.03914506, -0.52331623, -0.88112584, -0.24322177,  0.35786085,\n",
       "         0.0874662 , -0.22709307,  0.92029277, -0.98356052],\n",
       "       [-0.29479293, -0.5904937 , -1.59952123, -0.38599953,  0.33005837,\n",
       "        -0.67972848, -0.51171289, -1.08661074, -0.98356052],\n",
       "       [-0.29479293, -0.52331623, -1.59952123, -0.38599953,  0.73319425,\n",
       "         0.1593907 ,  0.17611834,  0.92029277, -0.98356052],\n",
       "       [-0.56158052,  1.76071786,  0.19646725, -0.10044402, -2.77686808,\n",
       "        -1.07131743, -1.10467085, -1.08661074, -0.98356052],\n",
       "       [ 1.30593266, -1.53097833, -0.88112584, -0.38599953,  1.0181696 ,\n",
       "         0.62290415,  1.45690754,  0.92029277,  1.01671425],\n",
       "       [-0.02800533,  0.4171684 ,  0.19646725, -0.38599953,  0.64283621,\n",
       "         0.07947459,  0.19983666,  0.92029277, -0.98356052],\n",
       "       [ 0.23878227,  0.34999092, -0.16273045, -0.38599953,  0.61503373,\n",
       "         0.75076993,  0.12868171,  0.92029277,  1.01671425],\n",
       "       [-0.02800533,  0.34999092, -0.52192814,  0.28029666, -0.74033687,\n",
       "        -0.54387109, -0.84376935, -1.08661074, -0.98356052],\n",
       "       [-2.16230611, -0.5904937 ,  0.91486264, -0.33840694,  0.17019415,\n",
       "        -0.81558587, -0.70145944, -1.08661074,  1.01671425],\n",
       "       [-0.82836812,  0.1484585 ,  1.27406033, -0.10044402, -0.62217636,\n",
       "        -0.71968654, -0.74889608, -1.08661074, -0.98356052],\n",
       "       [ 0.23878227, -1.73251075,  0.19646725, -0.38599953,  1.03902146,\n",
       "         3.73963254,  2.00242886,  0.92029277,  1.01671425],\n",
       "       [ 0.77235746, -1.06073601,  0.91486264,  2.46955556,  0.24665095,\n",
       "        -0.37604725, -0.36940298,  0.92029277,  1.01671425],\n",
       "       [-1.36194331, -0.32178381,  0.55566494, -0.38599953,  0.80965105,\n",
       "         0.54298804,  0.95882285,  0.92029277,  1.01671425],\n",
       "       [ 0.50556987,  0.08128103, -0.52192814, -0.38599953,  0.80965105,\n",
       "         2.0773774 ,  1.0299778 ,  0.92029277, -0.98356052],\n",
       "       [ 1.03914506, -0.65767117,  1.27406033, -0.38599953,  0.83050291,\n",
       "         0.20734037,  1.26716099,  0.92029277, -0.98356052],\n",
       "       [-0.29479293,  1.02176566,  0.91486264, -0.38599953,  0.59418188,\n",
       "         2.48494957,  0.01009011,  0.92029277, -0.98356052],\n",
       "       [ 1.03914506, -1.26226843, -0.88112584, -0.38599953,  0.89305847,\n",
       "        -0.15228214,  0.86394958,  0.92029277,  1.01671425],\n",
       "       [ 0.23878227, -0.38896128,  0.19646725, -0.38599953,  0.71234239,\n",
       "         0.09545781,  0.48445648,  0.92029277,  1.01671425],\n",
       "       [-0.29479293,  0.61870082, -0.52192814, -0.38599953,  0.48297198,\n",
       "        -0.49592142, -0.20337475,  0.92029277,  1.01671425],\n",
       "       [ 1.03914506, -2.00122064, -0.88112584, -0.33840694,  0.92781156,\n",
       "         0.90261055,  1.0299778 ,  0.92029277,  1.01671425],\n",
       "       [ 0.50556987, -0.32178381,  0.91486264, -0.38599953,  0.74709548,\n",
       "        -0.07236603,  0.79279462,  0.92029277,  1.01671425]])"
      ]
     },
     "execution_count": 23,
     "metadata": {},
     "output_type": "execute_result"
    }
   ],
   "source": [
    "x_test_sc"
   ]
  },
  {
   "cell_type": "markdown",
   "id": "30b529cb-8bbd-4b94-9176-bbd2f16ac067",
   "metadata": {},
   "source": [
    "## Box plot to understand effect of standard scaler"
   ]
  },
  {
   "cell_type": "code",
   "execution_count": 24,
   "id": "8da6bfea-d61d-46ee-9e98-631ef7e025e9",
   "metadata": {},
   "outputs": [
    {
     "name": "stderr",
     "output_type": "stream",
     "text": [
      "C:\\Users\\Lenovo\\AppData\\Local\\Temp\\ipykernel_7016\\2728966588.py:2: MatplotlibDeprecationWarning: Auto-removal of overlapping axes is deprecated since 3.6 and will be removed two minor releases later; explicitly call ax.remove() as needed.\n",
      "  plt.subplot(1,2,1)\n"
     ]
    },
    {
     "data": {
      "text/plain": [
       "Text(0.5, 1.0, 'x_train after scaling')"
      ]
     },
     "execution_count": 24,
     "metadata": {},
     "output_type": "execute_result"
    },
    {
     "data": {
      "image/png": "[encoded data removed]",
      "text/plain": [
       "<Figure size 1500x500 with 2 Axes>"
      ]
     },
     "metadata": {},
     "output_type": "display_data"
    }
   ],
   "source": [
    "plt.subplots(figsize=(15,5))\n",
    "plt.subplot(1,2,1)\n",
    "sns.boxplot(data=x_train)\n",
    "plt.title('X_train before scalling')\n",
    "plt.subplot(1,2,2)\n",
    "sns.boxplot(data=x_train_sc)\n",
    "plt.title('x_train after scaling')"
   ]
  },
  {
   "cell_type": "markdown",
   "id": "d714ce00-785d-4060-9e5f-8741717f9d29",
   "metadata": {},
   "source": [
    "## Linear Regression Model"
   ]
  },
  {
   "cell_type": "code",
   "execution_count": 25,
   "id": "cda533ee-35c6-4be6-97fe-6df525eff2a8",
   "metadata": {},
   "outputs": [
    {
     "name": "stdout",
     "output_type": "stream",
     "text": [
      "MAE : 0.5776072016024819\n",
      "R2_score error : 0.9836685254556914\n"
     ]
    },
    {
     "data": {
      "text/plain": [
       "<matplotlib.collections.PathCollection at 0x147db5bb8d0>"
      ]
     },
     "execution_count": 25,
     "metadata": {},
     "output_type": "execute_result"
    },
    {
     "data": {
      "image/png": "[encoded data removed]",
      "text/plain": [
       "<Figure size 640x480 with 1 Axes>"
      ]
     },
     "metadata": {},
     "output_type": "display_data"
    }
   ],
   "source": [
    "from sklearn.linear_model import LinearRegression\n",
    "from sklearn.metrics import mean_absolute_error,r2_score\n",
    "model=LinearRegression()\n",
    "model.fit(x_train_sc,y_train)\n",
    "y_pred=model.predict(x_test_sc)\n",
    "mae=mean_absolute_error(y_test,y_pred)\n",
    "score=r2_score(y_test,y_pred)\n",
    "print(\"MAE :\" ,mae)\n",
    "print(\"R2_score error :\",score)\n",
    "plt.scatter(y_test,y_pred)"
   ]
  },
  {
   "cell_type": "markdown",
   "id": "1856e620-6f88-468c-815d-7fb4834832a1",
   "metadata": {},
   "source": [
    "#### may be its couse overfitting\n",
    "#### Lasso Regression"
   ]
  },
  {
   "cell_type": "code",
   "execution_count": 26,
   "id": "338852e4-74c2-4c10-ab4d-b2312a5fb26e",
   "metadata": {},
   "outputs": [
    {
     "name": "stdout",
     "output_type": "stream",
     "text": [
      "MAE : 1.145997996939169\n",
      "R2_score error : 0.9497712193501187\n"
     ]
    },
    {
     "data": {
      "text/plain": [
       "<matplotlib.collections.PathCollection at 0x147dc3da2d0>"
      ]
     },
     "execution_count": 26,
     "metadata": {},
     "output_type": "execute_result"
    },
    {
     "data": {
      "image/png": "[encoded data removed]",
      "text/plain": [
       "<Figure size 640x480 with 1 Axes>"
      ]
     },
     "metadata": {},
     "output_type": "display_data"
    }
   ],
   "source": [
    "from sklearn.linear_model import Lasso\n",
    "from sklearn.metrics import mean_absolute_error,r2_score\n",
    "model1=Lasso()\n",
    "model1.fit(x_train_sc,y_train)\n",
    "y_pred=model1.predict(x_test_sc)\n",
    "mae=mean_absolute_error(y_test,y_pred)\n",
    "score=r2_score(y_test,y_pred)\n",
    "print(\"MAE :\" ,mae)\n",
    "print(\"R2_score error :\",score)\n",
    "plt.scatter(y_test,y_pred)"
   ]
  },
  {
   "cell_type": "code",
   "execution_count": 27,
   "id": "9aff8dd6-3b1c-4fb9-8c92-dc361f0f792b",
   "metadata": {},
   "outputs": [
    {
     "data": {
      "text/html": [
       "<style>#sk-container-id-1 {color: black;}#sk-container-id-1 pre{padding: 0;}#sk-container-id-1 div.sk-toggleable {background-color: white;}#sk-container-id-1 label.sk-toggleable__label {cursor: pointer;display: block;width: 100%;margin-bottom: 0;padding: 0.3em;box-sizing: border-box;text-align: center;}#sk-container-id-1 label.sk-toggleable__label-arrow:before {content: \"▸\";float: left;margin-right: 0.25em;color: #696969;}#sk-container-id-1 label.sk-toggleable__label-arrow:hover:before {color: black;}#sk-container-id-1 div.sk-estimator:hover label.sk-toggleable__label-arrow:before {color: black;}#sk-container-id-1 div.sk-toggleable__content {max-height: 0;max-width: 0;overflow: hidden;text-align: left;background-color: #f0f8ff;}#sk-container-id-1 div.sk-toggleable__content pre {margin: 0.2em;color: black;border-radius: 0.25em;background-color: #f0f8ff;}#sk-container-id-1 input.sk-toggleable__control:checked~div.sk-toggleable__content {max-height: 200px;max-width: 100%;overflow: auto;}#sk-container-id-1 input.sk-toggleable__control:checked~label.sk-toggleable__label-arrow:before {content: \"▾\";}#sk-container-id-1 div.sk-estimator input.sk-toggleable__control:checked~label.sk-toggleable__label {background-color: #d4ebff;}#sk-container-id-1 div.sk-label input.sk-toggleable__control:checked~label.sk-toggleable__label {background-color: #d4ebff;}#sk-container-id-1 input.sk-hidden--visually {border: 0;clip: rect(1px 1px 1px 1px);clip: rect(1px, 1px, 1px, 1px);height: 1px;margin: -1px;overflow: hidden;padding: 0;position: absolute;width: 1px;}#sk-container-id-1 div.sk-estimator {font-family: monospace;background-color: #f0f8ff;border: 1px dotted black;border-radius: 0.25em;box-sizing: border-box;margin-bottom: 0.5em;}#sk-container-id-1 div.sk-estimator:hover {background-color: #d4ebff;}#sk-container-id-1 div.sk-parallel-item::after {content: \"\";width: 100%;border-bottom: 1px solid gray;flex-grow: 1;}#sk-container-id-1 div.sk-label:hover label.sk-toggleable__label {background-color: #d4ebff;}#sk-container-id-1 div.sk-serial::before {content: \"\";position: absolute;border-left: 1px solid gray;box-sizing: border-box;top: 0;bottom: 0;left: 50%;z-index: 0;}#sk-container-id-1 div.sk-serial {display: flex;flex-direction: column;align-items: center;background-color: white;padding-right: 0.2em;padding-left: 0.2em;position: relative;}#sk-container-id-1 div.sk-item {position: relative;z-index: 1;}#sk-container-id-1 div.sk-parallel {display: flex;align-items: stretch;justify-content: center;background-color: white;position: relative;}#sk-container-id-1 div.sk-item::before, #sk-container-id-1 div.sk-parallel-item::before {content: \"\";position: absolute;border-left: 1px solid gray;box-sizing: border-box;top: 0;bottom: 0;left: 50%;z-index: -1;}#sk-container-id-1 div.sk-parallel-item {display: flex;flex-direction: column;z-index: 1;position: relative;background-color: white;}#sk-container-id-1 div.sk-parallel-item:first-child::after {align-self: flex-end;width: 50%;}#sk-container-id-1 div.sk-parallel-item:last-child::after {align-self: flex-start;width: 50%;}#sk-container-id-1 div.sk-parallel-item:only-child::after {width: 0;}#sk-container-id-1 div.sk-dashed-wrapped {border: 1px dashed gray;margin: 0 0.4em 0.5em 0.4em;box-sizing: border-box;padding-bottom: 0.4em;background-color: white;}#sk-container-id-1 div.sk-label label {font-family: monospace;font-weight: bold;display: inline-block;line-height: 1.2em;}#sk-container-id-1 div.sk-label-container {text-align: center;}#sk-container-id-1 div.sk-container {/* jupyter's `normalize.less` sets `[hidden] { display: none; }` but bootstrap.min.css set `[hidden] { display: none !important; }` so we also need the `!important` here to be able to override the default hidden behavior on the sphinx rendered scikit-learn.org. See: https://github.com/scikit-learn/scikit-learn/issues/21755 */display: inline-block !important;position: relative;}#sk-container-id-1 div.sk-text-repr-fallback {display: none;}</style><div id=\"sk-container-id-1\" class=\"sk-top-container\"><div class=\"sk-text-repr-fallback\"><pre>LassoCV(cv=5)</pre><b>In a Jupyter environment, please rerun this cell to show the HTML representation or trust the notebook. <br />On GitHub, the HTML representation is unable to render, please try loading this page with nbviewer.org.</b></div><div class=\"sk-container\" hidden><div class=\"sk-item\"><div class=\"sk-estimator sk-toggleable\"><input class=\"sk-toggleable__control sk-hidden--visually\" id=\"sk-estimator-id-1\" type=\"checkbox\" checked><label for=\"sk-estimator-id-1\" class=\"sk-toggleable__label sk-toggleable__label-arrow\">LassoCV</label><div class=\"sk-toggleable__content\"><pre>LassoCV(cv=5)</pre></div></div></div></div></div>"
      ],
      "text/plain": [
       "LassoCV(cv=5)"
      ]
     },
     "execution_count": 27,
     "metadata": {},
     "output_type": "execute_result"
    }
   ],
   "source": [
    "from sklearn.linear_model import LassoCV\n",
    "lassocv=LassoCV(cv=5)\n",
    "lassocv.fit(x_train_sc,y_train)"
   ]
  },
  {
   "cell_type": "code",
   "execution_count": 28,
   "id": "2e0e178b-0447-42c5-8961-db19c5c24cf4",
   "metadata": {},
   "outputs": [
    {
     "data": {
      "text/plain": [
       "0.06481103951672902"
      ]
     },
     "execution_count": 28,
     "metadata": {},
     "output_type": "execute_result"
    }
   ],
   "source": [
    "lassocv.alpha_"
   ]
  },
  {
   "cell_type": "code",
   "execution_count": 29,
   "id": "45ec090c-e757-4b63-b773-ce97bfeb6252",
   "metadata": {},
   "outputs": [
    {
     "data": {
      "text/plain": [
       "array([6.94947533, 6.48110395, 6.04429924, 5.6369337 , 5.25702323,\n",
       "       4.90271746, 4.57229071, 4.26413362, 3.97674529, 3.70872596,\n",
       "       3.45877025, 3.22566071, 3.00826197, 2.80551518, 2.61643285,\n",
       "       2.44009403, 2.27563986, 2.12226935, 1.9792355 , 1.84584165,\n",
       "       1.7214381 , 1.60541894, 1.49721907, 1.39631152, 1.3022048 ,\n",
       "       1.21444055, 1.13259132, 1.05625846, 0.98507017, 0.91867974,\n",
       "       0.8567638 , 0.79902079, 0.74516946, 0.69494753, 0.6481104 ,\n",
       "       0.60442992, 0.56369337, 0.52570232, 0.49027175, 0.45722907,\n",
       "       0.42641336, 0.39767453, 0.3708726 , 0.34587702, 0.32256607,\n",
       "       0.3008262 , 0.28055152, 0.26164329, 0.2440094 , 0.22756399,\n",
       "       0.21222694, 0.19792355, 0.18458417, 0.17214381, 0.16054189,\n",
       "       0.14972191, 0.13963115, 0.13022048, 0.12144406, 0.11325913,\n",
       "       0.10562585, 0.09850702, 0.09186797, 0.08567638, 0.07990208,\n",
       "       0.07451695, 0.06949475, 0.06481104, 0.06044299, 0.05636934,\n",
       "       0.05257023, 0.04902717, 0.04572291, 0.04264134, 0.03976745,\n",
       "       0.03708726, 0.0345877 , 0.03225661, 0.03008262, 0.02805515,\n",
       "       0.02616433, 0.02440094, 0.0227564 , 0.02122269, 0.01979236,\n",
       "       0.01845842, 0.01721438, 0.01605419, 0.01497219, 0.01396312,\n",
       "       0.01302205, 0.01214441, 0.01132591, 0.01056258, 0.0098507 ,\n",
       "       0.0091868 , 0.00856764, 0.00799021, 0.00745169, 0.00694948])"
      ]
     },
     "execution_count": 29,
     "metadata": {},
     "output_type": "execute_result"
    }
   ],
   "source": [
    "lassocv.alphas_"
   ]
  },
  {
   "cell_type": "code",
   "execution_count": 30,
   "id": "9c9d336b-693a-488b-b4bc-978467adc376",
   "metadata": {},
   "outputs": [
    {
     "data": {
      "text/plain": [
       "array([[54.83966454, 59.07855795, 38.72729712, 78.24916791, 53.00661707],\n",
       "       [48.33127443, 52.98238939, 33.40705056, 76.17370919, 47.37592787],\n",
       "       [42.489492  , 46.9476325 , 28.61641869, 69.11179183, 42.46600092],\n",
       "       [37.38816074, 41.6222327 , 24.54198449, 62.88571919, 38.18380814],\n",
       "       [32.93231013, 36.95463498, 21.08421335, 57.39228141, 33.53847098],\n",
       "       [29.03908563, 32.86149181, 18.15701813, 52.54133041, 29.14966015],\n",
       "       [25.63631212, 29.27011099, 15.68586523, 48.25410422, 25.34331445],\n",
       "       [22.66140204, 26.11749884, 13.60632992, 43.16468118, 22.0425561 ],\n",
       "       [20.05957707, 23.34834079, 11.86266757, 37.9874641 , 19.18168383],\n",
       "       [17.78321296, 20.91452315, 10.40680285, 33.46741145, 16.70233718],\n",
       "       [15.79082322, 18.77407566,  9.19714128, 29.52048402, 14.5542223 ],\n",
       "       [14.0461701 , 16.89025254,  8.19780164, 26.07233474, 12.69363691],\n",
       "       [12.51796119, 15.23137028,  7.37783328, 23.06047803, 11.08260866],\n",
       "       [11.17864417, 13.76938633,  6.71043366, 20.42825298,  9.68780601],\n",
       "       [10.0043003 , 12.47994657,  6.17286425, 18.12706497,  8.48129676],\n",
       "       [ 8.97408019, 11.34178204,  5.745228  , 16.11459225,  7.43778832],\n",
       "       [ 8.06980707, 10.33631288,  5.41051576, 14.35397185,  6.53565474],\n",
       "       [ 7.27563158,  9.4473035 ,  5.15411532, 12.8130922 ,  5.75611405],\n",
       "       [ 6.57765905,  8.66047692,  4.96348679, 11.46339338,  5.0828554 ],\n",
       "       [ 5.9639872 ,  7.96360923,  4.82764974, 10.28174426,  4.50171559],\n",
       "       [ 5.42401339,  7.34574491,  4.73787108,  9.24623544,  4.00039772],\n",
       "       [ 4.94855836,  6.79738642,  4.68604922,  8.33835432,  3.56803944],\n",
       "       [ 4.52961026,  6.31022001,  4.6654696 ,  7.54196578,  3.19577876],\n",
       "       [ 4.16017441,  5.87696496,  4.67041218,  6.8430034 ,  2.87535393],\n",
       "       [ 3.83414257,  5.4912424 ,  4.69601322,  6.2292022 ,  2.59978702],\n",
       "       [ 3.5461791 ,  5.14746097,  4.73814623,  5.6898661 ,  2.3630248 ],\n",
       "       [ 3.29157705,  4.84068218,  4.7929806 ,  5.2156655 ,  2.15981668],\n",
       "       [ 3.06635811,  4.56668174,  4.85826   ,  4.79812139,  1.98560918],\n",
       "       [ 2.86690726,  4.32163792,  4.93115477,  4.43085438,  1.83645426],\n",
       "       [ 2.6901084 ,  4.10223271,  5.009585  ,  4.1072782 ,  1.70884959],\n",
       "       [ 2.53323529,  3.9055498 ,  5.09181672,  3.82197985,  1.6000058 ],\n",
       "       [ 2.39390169,  3.72902423,  5.17641007,  3.5702343 ,  1.50725491],\n",
       "       [ 2.27001806,  3.57039852,  5.2621764 ,  3.34791441,  1.42837118],\n",
       "       [ 2.15975389,  3.42768443,  5.34814129,  3.1514142 ,  1.36142801],\n",
       "       [ 2.06150483,  3.29912957,  5.43309279,  2.97758211,  1.30475785],\n",
       "       [ 1.97386408,  3.1831882 ,  5.51725257,  2.8251464 ,  1.25691793],\n",
       "       [ 1.89558178,  3.07851028,  5.59967912,  2.70083801,  1.21666045],\n",
       "       [ 1.82560877,  2.9838638 ,  5.67997229,  2.59043247,  1.18290672],\n",
       "       [ 1.76297452,  2.89819401,  5.75783011,  2.49273375,  1.15473055],\n",
       "       [ 1.70684269,  2.82055766,  5.83302906,  2.40620066,  1.13132173],\n",
       "       [ 1.65647791,  2.750119  ,  5.9054112 ,  2.32948394,  1.11198354],\n",
       "       [ 1.6112331 ,  2.68613696,  5.97487312,  2.26140303,  1.096117  ],\n",
       "       [ 1.57053843,  2.62795374,  6.0413566 ,  2.20080531,  1.08320569],\n",
       "       [ 1.53389175,  2.5749849 ,  6.10437967,  2.14703258,  1.07280481],\n",
       "       [ 1.50230108,  2.52671057,  6.16489234,  2.09916016,  1.06384258],\n",
       "       [ 1.4741547 ,  2.48266789,  6.22245694,  2.05649761,  1.04833788],\n",
       "       [ 1.43401429,  2.43316944,  6.27711689,  2.0184355 ,  1.03635035],\n",
       "       [ 1.39802925,  2.37707511,  6.32673595,  1.98422463,  1.03109767],\n",
       "       [ 1.36566694,  2.32686183,  6.36051624,  1.95384349,  1.02906673],\n",
       "       [ 1.33672511,  2.28184557,  6.39384206,  1.89830369,  1.02886253],\n",
       "       [ 1.31072378,  2.24148512,  6.42667423,  1.84866696,  1.03013081],\n",
       "       [ 1.28733142,  2.20517226,  6.45829935,  1.80448822,  1.03257666],\n",
       "       [ 1.26626069,  2.17249888,  6.48962837,  1.7651105 ,  1.03595998],\n",
       "       [ 1.24725807,  2.14306479,  6.52550371,  1.7295751 ,  1.04008419],\n",
       "       [ 1.23009977,  2.11651656,  6.58161195,  1.69709431,  1.04476542],\n",
       "       [ 1.21458809,  2.09254221,  6.6378821 ,  1.66812271,  1.04985691],\n",
       "       [ 1.2005482 ,  2.07086606,  6.6936694 ,  1.64946354,  1.05523647],\n",
       "       [ 1.18782537,  2.05124434,  6.74857627,  1.63710731,  1.06080247],\n",
       "       [ 1.17622724,  2.03316912,  6.801628  ,  1.62820027,  1.06647084],\n",
       "       [ 1.16573987,  2.00178404,  6.85393244,  1.60641753,  1.06676449],\n",
       "       [ 1.14457731,  1.9695831 ,  6.9046076 ,  1.58271252,  1.04983581],\n",
       "       [ 1.10786109,  1.93535547,  6.95351611,  1.56270823,  1.03575924],\n",
       "       [ 1.07466739,  1.90465229,  7.00057187,  1.5462672 ,  1.02368685],\n",
       "       [ 1.04502512,  1.87683272,  7.04630076,  1.53270185,  1.01335228],\n",
       "       [ 1.01829425,  1.85160136,  7.09205888,  1.52158907,  1.00453585],\n",
       "       [ 0.9941627 ,  1.82869079,  7.1400086 ,  1.51256322,  0.99698748],\n",
       "       [ 0.97235137,  1.80763996,  7.18989109,  1.50530938,  0.99056424],\n",
       "       [ 0.95261351,  1.7887038 ,  7.23740143,  1.49955653,  0.98510231],\n",
       "       [ 0.94012894,  1.77145006,  7.2824363 ,  1.49498991,  0.98046835],\n",
       "       [ 0.9291203 ,  1.75571391,  7.32507139,  1.49157974,  0.97654666],\n",
       "       [ 0.91943993,  1.74429345,  7.36538564,  1.48906692,  0.97323714],\n",
       "       [ 0.91074365,  1.73400094,  7.4034635 ,  1.48730216,  0.97054722],\n",
       "       [ 0.90325469,  1.72448454,  7.43862248,  1.48615976,  0.96819386],\n",
       "       [ 0.89665241,  1.71605396,  7.47254714,  1.4855322 ,  0.96624216],\n",
       "       [ 0.89168092,  1.70840232,  7.50449696,  1.48532776,  0.96462069],\n",
       "       [ 0.88853798,  1.70145112,  7.53456871,  1.48545044,  0.96422381],\n",
       "       [ 0.8857685 ,  1.6949346 ,  7.56285339,  1.48586714,  0.96567201],\n",
       "       [ 0.88562287,  1.68920177,  7.58944023,  1.48651162,  0.96694374],\n",
       "       [ 0.8853794 ,  1.68555316,  7.61361116,  1.48733018,  0.96820596],\n",
       "       [ 0.88480485,  1.68183297,  7.63711671,  1.48918638,  0.96963209],\n",
       "       [ 0.8845799 ,  1.67853966,  7.66169863,  1.49184208,  0.97132609],\n",
       "       [ 0.88439273,  1.67565078,  7.67914273,  1.49458381,  0.97312933],\n",
       "       [ 0.8845877 ,  1.67294825,  7.69313049,  1.49733104,  0.97497652],\n",
       "       [ 0.88475331,  1.67072716,  7.70614644,  1.5000566 ,  0.9767303 ],\n",
       "       [ 0.88522185,  1.66860433,  7.71827343,  1.50104242,  0.97855853],\n",
       "       [ 0.88561572,  1.66689584,  7.72995587,  1.50187063,  0.98026945],\n",
       "       [ 0.88624611,  1.66522084,  7.74088701,  1.50275537,  0.98202808],\n",
       "       [ 0.88677938,  1.66469191,  7.7509744 ,  1.50367394,  0.98365823],\n",
       "       [ 0.88749097,  1.66371282,  7.76055877,  1.50467338,  0.98522845],\n",
       "       [ 0.88827121,  1.66320654,  7.76968291,  1.5056214 ,  0.98682199],\n",
       "       [ 0.88906352,  1.66262489,  7.77804162,  1.50655722,  0.98829991],\n",
       "       [ 0.88970435,  1.66232111,  7.78584253,  1.50748334,  0.98976233],\n",
       "       [ 0.89044157,  1.66212451,  7.79314244,  1.50844489,  0.99118931],\n",
       "       [ 0.89122344,  1.66198713,  7.80025999,  1.50934237,  0.99255314],\n",
       "       [ 0.89199444,  1.66170378,  7.80674456,  1.51020171,  0.99385159],\n",
       "       [ 0.89261539,  1.66162097,  7.81275462,  1.51103321,  0.99503482],\n",
       "       [ 0.89328015,  1.66161872,  7.8182431 ,  1.51187982,  0.99617379],\n",
       "       [ 0.89398112,  1.6616457 ,  7.82376186,  1.51266401,  0.99728346],\n",
       "       [ 0.89466742,  1.66169334,  7.82879074,  1.51340033,  0.99833873],\n",
       "       [ 0.89521346,  1.66159489,  7.83341036,  1.51410274,  0.99933636]])"
      ]
     },
     "execution_count": 30,
     "metadata": {},
     "output_type": "execute_result"
    }
   ],
   "source": [
    "lassocv.mse_path_"
   ]
  },
  {
   "cell_type": "code",
   "execution_count": 31,
   "id": "4866ca79-5a77-4ffa-a85a-aec923a143ef",
   "metadata": {},
   "outputs": [
    {
     "data": {
      "text/plain": [
       "<matplotlib.collections.PathCollection at 0x147db59a2d0>"
      ]
     },
     "execution_count": 31,
     "metadata": {},
     "output_type": "execute_result"
    },
    {
     "data": {
      "image/png": "[encoded data removed]",
      "text/plain": [
       "<Figure size 640x480 with 1 Axes>"
      ]
     },
     "metadata": {},
     "output_type": "display_data"
    }
   ],
   "source": [
    "y_pred=lassocv.predict(x_test_sc)\n",
    "plt.scatter(y_test,y_pred)"
   ]
  },
  {
   "cell_type": "code",
   "execution_count": 32,
   "id": "c06f6f4d-cddb-4400-8369-396eb45043cb",
   "metadata": {},
   "outputs": [
    {
     "name": "stdout",
     "output_type": "stream",
     "text": [
      "MAE : 0.6622250709806292\n",
      "R2_score error : 0.9809719622679341\n"
     ]
    }
   ],
   "source": [
    "mae=mean_absolute_error(y_test,y_pred)\n",
    "score=r2_score(y_test,y_pred)\n",
    "print(\"MAE :\" ,mae)\n",
    "print(\"R2_score error :\",score)"
   ]
  },
  {
   "cell_type": "markdown",
   "id": "3dc2e384-c5a7-4abf-8378-c5d23daa8480",
   "metadata": {},
   "source": [
    "#### Ridge Regression model"
   ]
  },
  {
   "cell_type": "code",
   "execution_count": 33,
   "id": "a8354de7-ca7a-4491-9bee-e91d555c9837",
   "metadata": {},
   "outputs": [
    {
     "name": "stdout",
     "output_type": "stream",
     "text": [
      "MAE : 0.6013524729812756\n",
      "R2_score error : 0.9829234408923199\n"
     ]
    },
    {
     "data": {
      "text/plain": [
       "<matplotlib.collections.PathCollection at 0x147dc4b4810>"
      ]
     },
     "execution_count": 33,
     "metadata": {},
     "output_type": "execute_result"
    },
    {
     "data": {
      "image/png": "[encoded data removed]",
      "text/plain": [
       "<Figure size 640x480 with 1 Axes>"
      ]
     },
     "metadata": {},
     "output_type": "display_data"
    }
   ],
   "source": [
    "from sklearn.linear_model import Ridge\n",
    "from sklearn.metrics import mean_absolute_error,r2_score\n",
    "model2=Ridge()\n",
    "model2.fit(x_train_sc,y_train)\n",
    "y_pred=model2.predict(x_test_sc)\n",
    "mae=mean_absolute_error(y_test,y_pred)\n",
    "score=r2_score(y_test,y_pred)\n",
    "print(\"MAE :\" ,mae)\n",
    "print(\"R2_score error :\",score)\n",
    "plt.scatter(y_test,y_pred)"
   ]
  },
  {
   "cell_type": "code",
   "execution_count": 34,
   "id": "6eb38814-c8b4-427f-a99e-ee9a2ec7206b",
   "metadata": {},
   "outputs": [
    {
     "name": "stdout",
     "output_type": "stream",
     "text": [
      "MAE : 0.6013524729812756\n",
      "R2_score error : 0.9829234408923199\n"
     ]
    },
    {
     "data": {
      "image/png": "[encoded data removed]",
      "text/plain": [
       "<Figure size 640x480 with 1 Axes>"
      ]
     },
     "metadata": {},
     "output_type": "display_data"
    }
   ],
   "source": [
    "from sklearn.linear_model import RidgeCV\n",
    "ridgecv=RidgeCV(cv=5)\n",
    "ridgecv.fit(x_train_sc,y_train)\n",
    "ridgecv.predict(x_test_sc)\n",
    "plt.scatter(y_test,y_pred)\n",
    "mae=mean_absolute_error(y_test,y_pred)\n",
    "score=r2_score(y_test,y_pred)\n",
    "print(\"MAE :\" ,mae)\n",
    "print(\"R2_score error :\",score)"
   ]
  },
  {
   "cell_type": "markdown",
   "id": "9c04bb3d-c6cd-4b5e-b0ca-9efe2dc2fc0e",
   "metadata": {},
   "source": [
    "#### Elastic net regression"
   ]
  },
  {
   "cell_type": "code",
   "execution_count": 35,
   "id": "5b289a9c-121e-447a-95f6-691d03366b61",
   "metadata": {},
   "outputs": [
    {
     "name": "stdout",
     "output_type": "stream",
     "text": [
      "MAE : 1.8649528388049723\n",
      "R2_score error : 0.8743005798280058\n"
     ]
    },
    {
     "data": {
      "text/plain": [
       "<matplotlib.collections.PathCollection at 0x147dd5450d0>"
      ]
     },
     "execution_count": 35,
     "metadata": {},
     "output_type": "execute_result"
    },
    {
     "data": {
      "image/png": "[encoded data removed]",
      "text/plain": [
       "<Figure size 640x480 with 1 Axes>"
      ]
     },
     "metadata": {},
     "output_type": "display_data"
    }
   ],
   "source": [
    "from sklearn.linear_model import ElasticNet\n",
    "from sklearn.metrics import mean_absolute_error,r2_score\n",
    "model3=ElasticNet()\n",
    "model3.fit(x_train_sc,y_train)\n",
    "y_pred=model3.predict(x_test_sc)\n",
    "mae=mean_absolute_error(y_test,y_pred)\n",
    "score=r2_score(y_test,y_pred)\n",
    "print(\"MAE :\" ,mae)\n",
    "print(\"R2_score error :\",score)\n",
    "plt.scatter(y_test,y_pred)"
   ]
  },
  {
   "cell_type": "code",
   "execution_count": 36,
   "id": "6e83f7fe-cf9a-4344-82b8-7c156f346827",
   "metadata": {},
   "outputs": [
    {
     "name": "stdout",
     "output_type": "stream",
     "text": [
      "MAE : 1.8649528388049723\n",
      "R2_score error : 0.8743005798280058\n"
     ]
    },
    {
     "data": {
      "image/png": "[encoded data removed]",
      "text/plain": [
       "<Figure size 640x480 with 1 Axes>"
      ]
     },
     "metadata": {},
     "output_type": "display_data"
    }
   ],
   "source": [
    "from sklearn.linear_model import ElasticNetCV\n",
    "elncv=ElasticNetCV(cv=5)\n",
    "elncv.fit(x_train_sc,y_train)\n",
    "elncv.predict(x_test_sc)\n",
    "plt.scatter(y_test,y_pred)\n",
    "mae=mean_absolute_error(y_test,y_pred)\n",
    "score=r2_score(y_test,y_pred)\n",
    "print(\"MAE :\" ,mae)\n",
    "print(\"R2_score error :\",score)"
   ]
  },
  {
   "cell_type": "code",
   "execution_count": 37,
   "id": "a7f98b1a-174f-4279-b3ee-f4b9df68639b",
   "metadata": {},
   "outputs": [
    {
     "data": {
      "text/plain": [
       "0.04880188067039494"
      ]
     },
     "execution_count": 37,
     "metadata": {},
     "output_type": "execute_result"
    }
   ],
   "source": [
    "elncv.alpha_"
   ]
  },
  {
   "cell_type": "code",
   "execution_count": 38,
   "id": "382781fa-f830-4549-bc7f-be044e55b72a",
   "metadata": {},
   "outputs": [
    {
     "data": {
      "text/plain": [
       "array([13.89895066, 12.9622079 , 12.08859847, 11.2738674 , 10.51404647,\n",
       "        9.80543492,  9.14458143,  8.52826724,  7.95349058,  7.41745193,\n",
       "        6.9175405 ,  6.45132142,  6.01652395,  5.61103037,  5.2328657 ,\n",
       "        4.88018807,  4.55127972,  4.2445387 ,  3.958471  ,  3.6916833 ,\n",
       "        3.44287621,  3.21083787,  2.99443815,  2.79262304,  2.60440959,\n",
       "        2.4288811 ,  2.26518264,  2.11251691,  1.97014035,  1.83735948,\n",
       "        1.7135276 ,  1.59804157,  1.49033892,  1.38989507,  1.29622079,\n",
       "        1.20885985,  1.12738674,  1.05140465,  0.98054349,  0.91445814,\n",
       "        0.85282672,  0.79534906,  0.74174519,  0.69175405,  0.64513214,\n",
       "        0.60165239,  0.56110304,  0.52328657,  0.48801881,  0.45512797,\n",
       "        0.42445387,  0.3958471 ,  0.36916833,  0.34428762,  0.32108379,\n",
       "        0.29944381,  0.2792623 ,  0.26044096,  0.24288811,  0.22651826,\n",
       "        0.21125169,  0.19701403,  0.18373595,  0.17135276,  0.15980416,\n",
       "        0.14903389,  0.13898951,  0.12962208,  0.12088598,  0.11273867,\n",
       "        0.10514046,  0.09805435,  0.09144581,  0.08528267,  0.07953491,\n",
       "        0.07417452,  0.0691754 ,  0.06451321,  0.06016524,  0.0561103 ,\n",
       "        0.05232866,  0.04880188,  0.0455128 ,  0.04244539,  0.03958471,\n",
       "        0.03691683,  0.03442876,  0.03210838,  0.02994438,  0.02792623,\n",
       "        0.0260441 ,  0.02428881,  0.02265183,  0.02112517,  0.0197014 ,\n",
       "        0.01837359,  0.01713528,  0.01598042,  0.01490339,  0.01389895])"
      ]
     },
     "execution_count": 38,
     "metadata": {},
     "output_type": "execute_result"
    }
   ],
   "source": [
    "elncv.alphas_"
   ]
  },
  {
   "cell_type": "code",
   "execution_count": null,
   "id": "d4a817e5-2881-41d8-960a-8f6dc20008ab",
   "metadata": {},
   "outputs": [],
   "source": [
    "## pickle machine learning model,preprocessing model standardscaler"
   ]
  },
  {
   "cell_type": "code",
   "execution_count": 39,
   "id": "b48c1034-b5e8-43cc-ae28-ebe08b170d07",
   "metadata": {},
   "outputs": [
    {
     "data": {
      "text/html": [
       "<style>#sk-container-id-2 {color: black;}#sk-container-id-2 pre{padding: 0;}#sk-container-id-2 div.sk-toggleable {background-color: white;}#sk-container-id-2 label.sk-toggleable__label {cursor: pointer;display: block;width: 100%;margin-bottom: 0;padding: 0.3em;box-sizing: border-box;text-align: center;}#sk-container-id-2 label.sk-toggleable__label-arrow:before {content: \"▸\";float: left;margin-right: 0.25em;color: #696969;}#sk-container-id-2 label.sk-toggleable__label-arrow:hover:before {color: black;}#sk-container-id-2 div.sk-estimator:hover label.sk-toggleable__label-arrow:before {color: black;}#sk-container-id-2 div.sk-toggleable__content {max-height: 0;max-width: 0;overflow: hidden;text-align: left;background-color: #f0f8ff;}#sk-container-id-2 div.sk-toggleable__content pre {margin: 0.2em;color: black;border-radius: 0.25em;background-color: #f0f8ff;}#sk-container-id-2 input.sk-toggleable__control:checked~div.sk-toggleable__content {max-height: 200px;max-width: 100%;overflow: auto;}#sk-container-id-2 input.sk-toggleable__control:checked~label.sk-toggleable__label-arrow:before {content: \"▾\";}#sk-container-id-2 div.sk-estimator input.sk-toggleable__control:checked~label.sk-toggleable__label {background-color: #d4ebff;}#sk-container-id-2 div.sk-label input.sk-toggleable__control:checked~label.sk-toggleable__label {background-color: #d4ebff;}#sk-container-id-2 input.sk-hidden--visually {border: 0;clip: rect(1px 1px 1px 1px);clip: rect(1px, 1px, 1px, 1px);height: 1px;margin: -1px;overflow: hidden;padding: 0;position: absolute;width: 1px;}#sk-container-id-2 div.sk-estimator {font-family: monospace;background-color: #f0f8ff;border: 1px dotted black;border-radius: 0.25em;box-sizing: border-box;margin-bottom: 0.5em;}#sk-container-id-2 div.sk-estimator:hover {background-color: #d4ebff;}#sk-container-id-2 div.sk-parallel-item::after {content: \"\";width: 100%;border-bottom: 1px solid gray;flex-grow: 1;}#sk-container-id-2 div.sk-label:hover label.sk-toggleable__label {background-color: #d4ebff;}#sk-container-id-2 div.sk-serial::before {content: \"\";position: absolute;border-left: 1px solid gray;box-sizing: border-box;top: 0;bottom: 0;left: 50%;z-index: 0;}#sk-container-id-2 div.sk-serial {display: flex;flex-direction: column;align-items: center;background-color: white;padding-right: 0.2em;padding-left: 0.2em;position: relative;}#sk-container-id-2 div.sk-item {position: relative;z-index: 1;}#sk-container-id-2 div.sk-parallel {display: flex;align-items: stretch;justify-content: center;background-color: white;position: relative;}#sk-container-id-2 div.sk-item::before, #sk-container-id-2 div.sk-parallel-item::before {content: \"\";position: absolute;border-left: 1px solid gray;box-sizing: border-box;top: 0;bottom: 0;left: 50%;z-index: -1;}#sk-container-id-2 div.sk-parallel-item {display: flex;flex-direction: column;z-index: 1;position: relative;background-color: white;}#sk-container-id-2 div.sk-parallel-item:first-child::after {align-self: flex-end;width: 50%;}#sk-container-id-2 div.sk-parallel-item:last-child::after {align-self: flex-start;width: 50%;}#sk-container-id-2 div.sk-parallel-item:only-child::after {width: 0;}#sk-container-id-2 div.sk-dashed-wrapped {border: 1px dashed gray;margin: 0 0.4em 0.5em 0.4em;box-sizing: border-box;padding-bottom: 0.4em;background-color: white;}#sk-container-id-2 div.sk-label label {font-family: monospace;font-weight: bold;display: inline-block;line-height: 1.2em;}#sk-container-id-2 div.sk-label-container {text-align: center;}#sk-container-id-2 div.sk-container {/* jupyter's `normalize.less` sets `[hidden] { display: none; }` but bootstrap.min.css set `[hidden] { display: none !important; }` so we also need the `!important` here to be able to override the default hidden behavior on the sphinx rendered scikit-learn.org. See: https://github.com/scikit-learn/scikit-learn/issues/21755 */display: inline-block !important;position: relative;}#sk-container-id-2 div.sk-text-repr-fallback {display: none;}</style><div id=\"sk-container-id-2\" class=\"sk-top-container\"><div class=\"sk-text-repr-fallback\"><pre>StandardScaler()</pre><b>In a Jupyter environment, please rerun this cell to show the HTML representation or trust the notebook. <br />On GitHub, the HTML representation is unable to render, please try loading this page with nbviewer.org.</b></div><div class=\"sk-container\" hidden><div class=\"sk-item\"><div class=\"sk-estimator sk-toggleable\"><input class=\"sk-toggleable__control sk-hidden--visually\" id=\"sk-estimator-id-2\" type=\"checkbox\" checked><label for=\"sk-estimator-id-2\" class=\"sk-toggleable__label sk-toggleable__label-arrow\">StandardScaler</label><div class=\"sk-toggleable__content\"><pre>StandardScaler()</pre></div></div></div></div></div>"
      ],
      "text/plain": [
       "StandardScaler()"
      ]
     },
     "execution_count": 39,
     "metadata": {},
     "output_type": "execute_result"
    }
   ],
   "source": [
    "scaler"
   ]
  },
  {
   "cell_type": "code",
   "execution_count": 40,
   "id": "1081cb3b-b845-4d06-a75a-3065bc6e8b4e",
   "metadata": {},
   "outputs": [
    {
     "data": {
      "text/html": [
       "<style>#sk-container-id-3 {color: black;}#sk-container-id-3 pre{padding: 0;}#sk-container-id-3 div.sk-toggleable {background-color: white;}#sk-container-id-3 label.sk-toggleable__label {cursor: pointer;display: block;width: 100%;margin-bottom: 0;padding: 0.3em;box-sizing: border-box;text-align: center;}#sk-container-id-3 label.sk-toggleable__label-arrow:before {content: \"▸\";float: left;margin-right: 0.25em;color: #696969;}#sk-container-id-3 label.sk-toggleable__label-arrow:hover:before {color: black;}#sk-container-id-3 div.sk-estimator:hover label.sk-toggleable__label-arrow:before {color: black;}#sk-container-id-3 div.sk-toggleable__content {max-height: 0;max-width: 0;overflow: hidden;text-align: left;background-color: #f0f8ff;}#sk-container-id-3 div.sk-toggleable__content pre {margin: 0.2em;color: black;border-radius: 0.25em;background-color: #f0f8ff;}#sk-container-id-3 input.sk-toggleable__control:checked~div.sk-toggleable__content {max-height: 200px;max-width: 100%;overflow: auto;}#sk-container-id-3 input.sk-toggleable__control:checked~label.sk-toggleable__label-arrow:before {content: \"▾\";}#sk-container-id-3 div.sk-estimator input.sk-toggleable__control:checked~label.sk-toggleable__label {background-color: #d4ebff;}#sk-container-id-3 div.sk-label input.sk-toggleable__control:checked~label.sk-toggleable__label {background-color: #d4ebff;}#sk-container-id-3 input.sk-hidden--visually {border: 0;clip: rect(1px 1px 1px 1px);clip: rect(1px, 1px, 1px, 1px);height: 1px;margin: -1px;overflow: hidden;padding: 0;position: absolute;width: 1px;}#sk-container-id-3 div.sk-estimator {font-family: monospace;background-color: #f0f8ff;border: 1px dotted black;border-radius: 0.25em;box-sizing: border-box;margin-bottom: 0.5em;}#sk-container-id-3 div.sk-estimator:hover {background-color: #d4ebff;}#sk-container-id-3 div.sk-parallel-item::after {content: \"\";width: 100%;border-bottom: 1px solid gray;flex-grow: 1;}#sk-container-id-3 div.sk-label:hover label.sk-toggleable__label {background-color: #d4ebff;}#sk-container-id-3 div.sk-serial::before {content: \"\";position: absolute;border-left: 1px solid gray;box-sizing: border-box;top: 0;bottom: 0;left: 50%;z-index: 0;}#sk-container-id-3 div.sk-serial {display: flex;flex-direction: column;align-items: center;background-color: white;padding-right: 0.2em;padding-left: 0.2em;position: relative;}#sk-container-id-3 div.sk-item {position: relative;z-index: 1;}#sk-container-id-3 div.sk-parallel {display: flex;align-items: stretch;justify-content: center;background-color: white;position: relative;}#sk-container-id-3 div.sk-item::before, #sk-container-id-3 div.sk-parallel-item::before {content: \"\";position: absolute;border-left: 1px solid gray;box-sizing: border-box;top: 0;bottom: 0;left: 50%;z-index: -1;}#sk-container-id-3 div.sk-parallel-item {display: flex;flex-direction: column;z-index: 1;position: relative;background-color: white;}#sk-container-id-3 div.sk-parallel-item:first-child::after {align-self: flex-end;width: 50%;}#sk-container-id-3 div.sk-parallel-item:last-child::after {align-self: flex-start;width: 50%;}#sk-container-id-3 div.sk-parallel-item:only-child::after {width: 0;}#sk-container-id-3 div.sk-dashed-wrapped {border: 1px dashed gray;margin: 0 0.4em 0.5em 0.4em;box-sizing: border-box;padding-bottom: 0.4em;background-color: white;}#sk-container-id-3 div.sk-label label {font-family: monospace;font-weight: bold;display: inline-block;line-height: 1.2em;}#sk-container-id-3 div.sk-label-container {text-align: center;}#sk-container-id-3 div.sk-container {/* jupyter's `normalize.less` sets `[hidden] { display: none; }` but bootstrap.min.css set `[hidden] { display: none !important; }` so we also need the `!important` here to be able to override the default hidden behavior on the sphinx rendered scikit-learn.org. See: https://github.com/scikit-learn/scikit-learn/issues/21755 */display: inline-block !important;position: relative;}#sk-container-id-3 div.sk-text-repr-fallback {display: none;}</style><div id=\"sk-container-id-3\" class=\"sk-top-container\"><div class=\"sk-text-repr-fallback\"><pre>Ridge()</pre><b>In a Jupyter environment, please rerun this cell to show the HTML representation or trust the notebook. <br />On GitHub, the HTML representation is unable to render, please try loading this page with nbviewer.org.</b></div><div class=\"sk-container\" hidden><div class=\"sk-item\"><div class=\"sk-estimator sk-toggleable\"><input class=\"sk-toggleable__control sk-hidden--visually\" id=\"sk-estimator-id-3\" type=\"checkbox\" checked><label for=\"sk-estimator-id-3\" class=\"sk-toggleable__label sk-toggleable__label-arrow\">Ridge</label><div class=\"sk-toggleable__content\"><pre>Ridge()</pre></div></div></div></div></div>"
      ],
      "text/plain": [
       "Ridge()"
      ]
     },
     "execution_count": 40,
     "metadata": {},
     "output_type": "execute_result"
    }
   ],
   "source": [
    "model2     # ridge"
   ]
  },
  {
   "cell_type": "code",
   "execution_count": 41,
   "id": "e36b238f-e8b4-4458-b5fa-41997be04010",
   "metadata": {},
   "outputs": [],
   "source": [
    "import pickle\n",
    "pickle.dump(scaler,open('scaler.pkl','wb'))\n",
    "pickle.dump(model1,open('ridge.pkl','wb'))"
   ]
  },
  {
   "cell_type": "code",
   "execution_count": null,
   "id": "6eab80c2-749c-47d4-ae5e-734b268317cf",
   "metadata": {},
   "outputs": [],
   "source": []
  },
  {
   "cell_type": "code",
   "execution_count": null,
   "id": "549189df-b14f-4a15-b44c-9e7cd01bb365",
   "metadata": {},
   "outputs": [],
   "source": []
  },
  {
   "cell_type": "code",
   "execution_count": null,
   "id": "f958149b-c4a4-4764-8e4f-bd85c23fd3c9",
   "metadata": {},
   "outputs": [],
   "source": []
  },
  {
   "cell_type": "code",
   "execution_count": null,
   "id": "64ba2145-4fbd-4a35-be06-80575b29af96",
   "metadata": {},
   "outputs": [],
   "source": []
  },
  {
   "cell_type": "code",
   "execution_count": null,
   "id": "9de41486-7e19-4e31-bd4b-a44940b127fd",
   "metadata": {},
   "outputs": [],
   "source": []
  }
 ],
 "metadata": {
  "kernelspec": {
   "display_name": "Python 3 (ipykernel)",
   "language": "python",
   "name": "python3"
  },
  "language_info": {
   "codemirror_mode": {
    "name": "ipython",
    "version": 3
   },
   "file_extension": ".py",
   "mimetype": "text/x-python",
   "name": "python",
   "nbconvert_exporter": "python",
   "pygments_lexer": "ipython3",
   "version": "3.11.4"
  }
 },
 "nbformat": 4,
 "nbformat_minor": 5
}
